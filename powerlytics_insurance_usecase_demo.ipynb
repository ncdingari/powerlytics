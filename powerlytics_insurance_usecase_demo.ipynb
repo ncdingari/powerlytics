{
 "cells": [
  {
   "cell_type": "markdown",
   "id": "4e9fd1ec",
   "metadata": {},
   "source": [
    "# Powerlytics - Insurance Use Case"
   ]
  },
  {
   "cell_type": "markdown",
   "id": "429ddfb7",
   "metadata": {},
   "source": [
    "### Load the Insurance Carrier Data set"
   ]
  },
  {
   "cell_type": "markdown",
   "id": "054586df",
   "metadata": {},
   "source": [
    "The insurance carrier dataset contains buyers/non-buyers of a second product, which is a target variable, along with other customer specific variables. Powerlytics developed a cross-sell score that was highly predictive in identifying customers most likely to buy a second product. The data features contains cross-sell score along with other customer specific econometrics variables from Powerlytics database. This notebook demonstartes a usecase to identify and consolidate key drivers from the dataset, implement multivariate machine learning model, predict the propensity to buy next product and evaluate Lift and customer capture rate on original and holdout datasets.\n",
    "\n",
    "Install and load the necessary Python modules"
   ]
  },
  {
   "cell_type": "code",
   "execution_count": 1,
   "id": "7aa7d8a2",
   "metadata": {},
   "outputs": [],
   "source": [
    "import pandas as pd\n",
    "import numpy as np\n",
    "import h2o \n",
    "from h2o.estimators import H2OXGBoostEstimator"
   ]
  },
  {
   "cell_type": "markdown",
   "id": "082037fd",
   "metadata": {},
   "source": [
    "Let us load the data set"
   ]
  },
  {
   "cell_type": "code",
   "execution_count": 2,
   "id": "8db60d6b",
   "metadata": {},
   "outputs": [],
   "source": [
    "ins = pd.read_csv('data/insurance_original.csv')"
   ]
  },
  {
   "cell_type": "markdown",
   "id": "9e9a0de1",
   "metadata": {},
   "source": [
    "### Intialize the H2O"
   ]
  },
  {
   "cell_type": "code",
   "execution_count": 3,
   "id": "516c0fcb",
   "metadata": {},
   "outputs": [
    {
     "name": "stdout",
     "output_type": "stream",
     "text": [
      "Checking whether there is an H2O instance running at http://localhost:54321 ..... not found.\n",
      "Attempting to start a local H2O server...\n",
      "  Java Version: openjdk version \"1.8.0_152-release\"; OpenJDK Runtime Environment (build 1.8.0_152-release-1056-b12); OpenJDK 64-Bit Server VM (build 25.152-b12, mixed mode)\n",
      "  Starting server from /home/ndingari/anaconda3/lib/python3.8/site-packages/h2o/backend/bin/h2o.jar\n",
      "  Ice root: /tmp/tmpe10gl29x\n",
      "  JVM stdout: /tmp/tmpe10gl29x/h2o_ndingari_started_from_python.out\n",
      "  JVM stderr: /tmp/tmpe10gl29x/h2o_ndingari_started_from_python.err\n",
      "  Server is running at http://127.0.0.1:54321\n",
      "Connecting to H2O server at http://127.0.0.1:54321 ... successful.\n"
     ]
    },
    {
     "data": {
      "text/html": [
       "<div style=\"overflow:auto\"><table style=\"width:50%\"><tr><td>H2O_cluster_uptime:</td>\n",
       "<td>01 secs</td></tr>\n",
       "<tr><td>H2O_cluster_timezone:</td>\n",
       "<td>America/New_York</td></tr>\n",
       "<tr><td>H2O_data_parsing_timezone:</td>\n",
       "<td>UTC</td></tr>\n",
       "<tr><td>H2O_cluster_version:</td>\n",
       "<td>3.32.1.7</td></tr>\n",
       "<tr><td>H2O_cluster_version_age:</td>\n",
       "<td>6 days </td></tr>\n",
       "<tr><td>H2O_cluster_name:</td>\n",
       "<td>H2O_from_python_ndingari_sfxn8s</td></tr>\n",
       "<tr><td>H2O_cluster_total_nodes:</td>\n",
       "<td>1</td></tr>\n",
       "<tr><td>H2O_cluster_free_memory:</td>\n",
       "<td>3.516 Gb</td></tr>\n",
       "<tr><td>H2O_cluster_total_cores:</td>\n",
       "<td>6</td></tr>\n",
       "<tr><td>H2O_cluster_allowed_cores:</td>\n",
       "<td>6</td></tr>\n",
       "<tr><td>H2O_cluster_status:</td>\n",
       "<td>accepting new members, healthy</td></tr>\n",
       "<tr><td>H2O_connection_url:</td>\n",
       "<td>http://127.0.0.1:54321</td></tr>\n",
       "<tr><td>H2O_connection_proxy:</td>\n",
       "<td>{\"http\": null, \"https\": null}</td></tr>\n",
       "<tr><td>H2O_internal_security:</td>\n",
       "<td>False</td></tr>\n",
       "<tr><td>H2O_API_Extensions:</td>\n",
       "<td>Amazon S3, XGBoost, Algos, AutoML, Core V3, TargetEncoder, Core V4</td></tr>\n",
       "<tr><td>Python_version:</td>\n",
       "<td>3.8.8 final</td></tr></table></div>"
      ],
      "text/plain": [
       "--------------------------  ------------------------------------------------------------------\n",
       "H2O_cluster_uptime:         01 secs\n",
       "H2O_cluster_timezone:       America/New_York\n",
       "H2O_data_parsing_timezone:  UTC\n",
       "H2O_cluster_version:        3.32.1.7\n",
       "H2O_cluster_version_age:    6 days\n",
       "H2O_cluster_name:           H2O_from_python_ndingari_sfxn8s\n",
       "H2O_cluster_total_nodes:    1\n",
       "H2O_cluster_free_memory:    3.516 Gb\n",
       "H2O_cluster_total_cores:    6\n",
       "H2O_cluster_allowed_cores:  6\n",
       "H2O_cluster_status:         accepting new members, healthy\n",
       "H2O_connection_url:         http://127.0.0.1:54321\n",
       "H2O_connection_proxy:       {\"http\": null, \"https\": null}\n",
       "H2O_internal_security:      False\n",
       "H2O_API_Extensions:         Amazon S3, XGBoost, Algos, AutoML, Core V3, TargetEncoder, Core V4\n",
       "Python_version:             3.8.8 final\n",
       "--------------------------  ------------------------------------------------------------------"
      ]
     },
     "metadata": {},
     "output_type": "display_data"
    }
   ],
   "source": [
    "h2o.init()"
   ]
  },
  {
   "cell_type": "code",
   "execution_count": 4,
   "id": "dbd19b52",
   "metadata": {},
   "outputs": [],
   "source": [
    "h2o.remove_all()"
   ]
  },
  {
   "cell_type": "markdown",
   "id": "17698a5d",
   "metadata": {},
   "source": [
    "### Preprocess the data"
   ]
  },
  {
   "cell_type": "markdown",
   "id": "994805c8",
   "metadata": {},
   "source": [
    "Let us preprocess the data and create training and test datasets for model training and evaluation."
   ]
  },
  {
   "cell_type": "code",
   "execution_count": 5,
   "id": "98a6ea64",
   "metadata": {},
   "outputs": [
    {
     "name": "stdout",
     "output_type": "stream",
     "text": [
      "Parse progress: |█████████████████████████████████████████████████████████| 100%\n"
     ]
    }
   ],
   "source": [
    "ins_h2o = h2o.H2OFrame(ins)"
   ]
  },
  {
   "cell_type": "code",
   "execution_count": 6,
   "id": "31996741",
   "metadata": {},
   "outputs": [],
   "source": [
    "ins_h2o['bought_nextpol'] = ins_h2o['bought_nextpol'].asfactor()\n",
    "\n",
    "ins_h2o['gender'] = ins_h2o['gender'].asfactor()\n",
    "ins_h2o['age'] = ins_h2o['age'].asfactor()\n",
    "ins_h2o['faceamount'] = ins_h2o['faceamount'].asfactor()\n",
    "ins_h2o['product'] = ins_h2o['product'].asfactor()\n",
    "ins_h2o['councilstatus'] = ins_h2o['councilstatus'].asfactor()\n",
    "\n",
    "ins_h2o_train, ins_h2o_test = ins_h2o.split_frame(ratios=[.8])\n",
    "\n",
    "ins_h2o_y = 'bought_nextpol'\n",
    "ins_h2o_x = list(set(ins_h2o.names) - set([ins_h2o_y,'unique_id','zip5','zip4']))"
   ]
  },
  {
   "cell_type": "markdown",
   "id": "0f7c55a1",
   "metadata": {},
   "source": [
    "### XGBoost Model Training"
   ]
  },
  {
   "cell_type": "markdown",
   "id": "a6f7c8d6",
   "metadata": {},
   "source": [
    "We will be using XGBoost for this usecase. XGBoost is a supervised learning algorithm that implements a process called boosting to yield accurate models. Boosting refers to the ensemble learning technique of building many models sequentially,\n",
    "with each new model attempting to correct for the deficiencies in the previous model.\n",
    "Note: We are using `max_runtime_secs = 300` to complete the training step in 5 minutes. For better results, please do not use the parameter."
   ]
  },
  {
   "cell_type": "code",
   "execution_count": 7,
   "id": "a13dbb89",
   "metadata": {},
   "outputs": [],
   "source": [
    "ins_h2o_xgb = H2OXGBoostEstimator(distribution = \"bernoulli\",\n",
    "                      ntrees = 1500,\n",
    "                      max_depth = 5,\n",
    "                      min_rows = 120,\n",
    "                      learn_rate = 0.05,\n",
    "                      nfolds = 10,\n",
    "                      subsample = 0.75,\n",
    "                      gamma = 11.0,\n",
    "                      min_child_weight = 120,\n",
    "                      colsample_bytree = 0.75,\n",
    "                      fold_assignment = \"Modulo\",\n",
    "                      stopping_metric = \"AUC\",\n",
    "                      stopping_rounds = 5,\n",
    "                      score_tree_interval = 10,\n",
    "                      keep_cross_validation_predictions = True,\n",
    "                      seed = 2021,\n",
    "                      max_runtime_secs = 300)"
   ]
  },
  {
   "cell_type": "code",
   "execution_count": 8,
   "id": "e2433cdb",
   "metadata": {},
   "outputs": [
    {
     "name": "stdout",
     "output_type": "stream",
     "text": [
      "xgboost Model Build progress: |███████████████████████████████████████████| 100%\n"
     ]
    }
   ],
   "source": [
    "ins_h2o_xgb.train(x = ins_h2o_x,\n",
    "                  y = ins_h2o_y,\n",
    "                  training_frame = ins_h2o_train,\n",
    "                  validation_frame = ins_h2o_test)"
   ]
  },
  {
   "cell_type": "markdown",
   "id": "98186c54",
   "metadata": {},
   "source": [
    "### Display the model learning plot"
   ]
  },
  {
   "cell_type": "markdown",
   "id": "1373ec18",
   "metadata": {},
   "source": [
    "The learning curve plot shows error metric dependence on learning progress."
   ]
  },
  {
   "cell_type": "code",
   "execution_count": 9,
   "id": "765952f0",
   "metadata": {},
   "outputs": [
    {
     "data": {
      "image/png": "[encoded data removed]",
      "text/plain": [
       "<Figure size 1152x648 with 1 Axes>"
      ]
     },
     "execution_count": 9,
     "metadata": {},
     "output_type": "execute_result"
    },
    {
     "data": {
      "image/png": "[encoded data removed]",
      "text/plain": [
       "<Figure size 1152x648 with 1 Axes>"
      ]
     },
     "metadata": {
      "needs_background": "light"
     },
     "output_type": "display_data"
    }
   ],
   "source": [
    "ins_h2o_xgb.learning_curve_plot(metric='auc')"
   ]
  },
  {
   "cell_type": "markdown",
   "id": "a22e59ae",
   "metadata": {},
   "source": [
    "### Display the Variable Importance Table"
   ]
  },
  {
   "cell_type": "markdown",
   "id": "8ff2e02c",
   "metadata": {},
   "source": [
    "Display the key drivers/variables that contribute to decision making."
   ]
  },
  {
   "cell_type": "code",
   "execution_count": 10,
   "id": "4e257b60",
   "metadata": {},
   "outputs": [
    {
     "data": {
      "text/html": [
       "<div>\n",
       "<style scoped>\n",
       "    .dataframe tbody tr th:only-of-type {\n",
       "        vertical-align: middle;\n",
       "    }\n",
       "\n",
       "    .dataframe tbody tr th {\n",
       "        vertical-align: top;\n",
       "    }\n",
       "\n",
       "    .dataframe thead th {\n",
       "        text-align: right;\n",
       "    }\n",
       "</style>\n",
       "<table border=\"1\" class=\"dataframe\">\n",
       "  <thead>\n",
       "    <tr style=\"text-align: right;\">\n",
       "      <th></th>\n",
       "      <th>variable</th>\n",
       "      <th>percentage</th>\n",
       "    </tr>\n",
       "  </thead>\n",
       "  <tbody>\n",
       "    <tr>\n",
       "      <th>0</th>\n",
       "      <td>PWL_CROSSSELL_SCORE</td>\n",
       "      <td>0.900819</td>\n",
       "    </tr>\n",
       "    <tr>\n",
       "      <th>241</th>\n",
       "      <td>product</td>\n",
       "      <td>0.014564</td>\n",
       "    </tr>\n",
       "    <tr>\n",
       "      <th>30</th>\n",
       "      <td>age</td>\n",
       "      <td>0.003942</td>\n",
       "    </tr>\n",
       "    <tr>\n",
       "      <th>236</th>\n",
       "      <td>cluster_total_e87520</td>\n",
       "      <td>0.001417</td>\n",
       "    </tr>\n",
       "    <tr>\n",
       "      <th>14</th>\n",
       "      <td>adult_avg_Overpayments_refunded</td>\n",
       "      <td>0.001029</td>\n",
       "    </tr>\n",
       "    <tr>\n",
       "      <th>...</th>\n",
       "      <td>...</td>\n",
       "      <td>...</td>\n",
       "    </tr>\n",
       "    <tr>\n",
       "      <th>3</th>\n",
       "      <td>adult_avg_Count_of_returns_with_AGI</td>\n",
       "      <td>0.000087</td>\n",
       "    </tr>\n",
       "    <tr>\n",
       "      <th>140</th>\n",
       "      <td>cluster_Pct_of_AGI_Total_gifts_to_charity</td>\n",
       "      <td>0.000086</td>\n",
       "    </tr>\n",
       "    <tr>\n",
       "      <th>133</th>\n",
       "      <td>cluster_Count_of_returns_with_paid_preparer_s_...</td>\n",
       "      <td>0.000086</td>\n",
       "    </tr>\n",
       "    <tr>\n",
       "      <th>46</th>\n",
       "      <td>avg_3_Year_Percent_Change_in_Retirement_Income</td>\n",
       "      <td>0.000084</td>\n",
       "    </tr>\n",
       "    <tr>\n",
       "      <th>232</th>\n",
       "      <td>cluster_total_Total_taxes_you_paid</td>\n",
       "      <td>0.000076</td>\n",
       "    </tr>\n",
       "  </tbody>\n",
       "</table>\n",
       "<p>242 rows × 2 columns</p>\n",
       "</div>"
      ],
      "text/plain": [
       "                                              variable  percentage\n",
       "0                                  PWL_CROSSSELL_SCORE    0.900819\n",
       "241                                            product    0.014564\n",
       "30                                                 age    0.003942\n",
       "236                               cluster_total_e87520    0.001417\n",
       "14                     adult_avg_Overpayments_refunded    0.001029\n",
       "..                                                 ...         ...\n",
       "3                  adult_avg_Count_of_returns_with_AGI    0.000087\n",
       "140          cluster_Pct_of_AGI_Total_gifts_to_charity    0.000086\n",
       "133  cluster_Count_of_returns_with_paid_preparer_s_...    0.000086\n",
       "46      avg_3_Year_Percent_Change_in_Retirement_Income    0.000084\n",
       "232                 cluster_total_Total_taxes_you_paid    0.000076\n",
       "\n",
       "[242 rows x 2 columns]"
      ]
     },
     "execution_count": 10,
     "metadata": {},
     "output_type": "execute_result"
    }
   ],
   "source": [
    "varimp_ins_xgb = ins_h2o_xgb.varimp(use_pandas=True)\n",
    "varimp_ins_xgb['variable'] = varimp_ins_xgb['variable'].str.split('.').str[0]\n",
    "varimp_ins_xgb = varimp_ins_xgb[['variable','percentage']].groupby('variable').mean().reset_index()\n",
    "varimp_ins_xgb.sort_values(['percentage'],ascending=False)"
   ]
  },
  {
   "cell_type": "markdown",
   "id": "30fdc051",
   "metadata": {},
   "source": [
    "### Evaluate the model performance on training and test data"
   ]
  },
  {
   "cell_type": "code",
   "execution_count": 11,
   "id": "ec40d7e6",
   "metadata": {},
   "outputs": [],
   "source": [
    "ins_xgb_train = ins_h2o_xgb.model_performance(ins_h2o_train)\n",
    "ins_xgb_test = ins_h2o_xgb.model_performance(ins_h2o_test)"
   ]
  },
  {
   "cell_type": "markdown",
   "id": "9865b61a",
   "metadata": {},
   "source": [
    "#### Evaluate Training Data AUC"
   ]
  },
  {
   "cell_type": "markdown",
   "id": "522db833",
   "metadata": {},
   "source": [
    "AUC metric is used to evaluate how well a binary classification model is able to distinguish between true positives and false positives. An AUC of 1 indicates a perfect classifier, while an AUC of .5 indicates a poor classifier, whose performance is no better than random guessing."
   ]
  },
  {
   "cell_type": "code",
   "execution_count": 12,
   "id": "79b8ecd8",
   "metadata": {},
   "outputs": [
    {
     "data": {
      "text/plain": [
       "0.8766610578349424"
      ]
     },
     "execution_count": 12,
     "metadata": {},
     "output_type": "execute_result"
    }
   ],
   "source": [
    "ins_xgb_train.auc()"
   ]
  },
  {
   "cell_type": "markdown",
   "id": "4afb9366",
   "metadata": {},
   "source": [
    "#### Evaluate Test Data AUC"
   ]
  },
  {
   "cell_type": "code",
   "execution_count": 13,
   "id": "d01690d1",
   "metadata": {},
   "outputs": [
    {
     "data": {
      "text/plain": [
       "0.8662214817046564"
      ]
     },
     "execution_count": 13,
     "metadata": {},
     "output_type": "execute_result"
    }
   ],
   "source": [
    "ins_xgb_test.auc()"
   ]
  },
  {
   "cell_type": "markdown",
   "id": "ecf4f37b",
   "metadata": {},
   "source": [
    "### Predicting on the whole data"
   ]
  },
  {
   "cell_type": "code",
   "execution_count": 14,
   "id": "b96dfef8",
   "metadata": {},
   "outputs": [
    {
     "name": "stdout",
     "output_type": "stream",
     "text": [
      "xgboost prediction progress: |████████████████████████████████████████████| 100%\n"
     ]
    },
    {
     "data": {
      "text/html": [
       "<table>\n",
       "<thead>\n",
       "<tr><th style=\"text-align: right;\">  predict</th><th style=\"text-align: right;\">      p0</th><th style=\"text-align: right;\">      p1</th></tr>\n",
       "</thead>\n",
       "<tbody>\n",
       "<tr><td style=\"text-align: right;\">        1</td><td style=\"text-align: right;\">0.12772 </td><td style=\"text-align: right;\">0.87228 </td></tr>\n",
       "<tr><td style=\"text-align: right;\">        0</td><td style=\"text-align: right;\">0.687004</td><td style=\"text-align: right;\">0.312996</td></tr>\n",
       "<tr><td style=\"text-align: right;\">        0</td><td style=\"text-align: right;\">0.868271</td><td style=\"text-align: right;\">0.131729</td></tr>\n",
       "<tr><td style=\"text-align: right;\">        1</td><td style=\"text-align: right;\">0.21663 </td><td style=\"text-align: right;\">0.78337 </td></tr>\n",
       "<tr><td style=\"text-align: right;\">        0</td><td style=\"text-align: right;\">0.851098</td><td style=\"text-align: right;\">0.148902</td></tr>\n",
       "<tr><td style=\"text-align: right;\">        0</td><td style=\"text-align: right;\">0.863172</td><td style=\"text-align: right;\">0.136828</td></tr>\n",
       "<tr><td style=\"text-align: right;\">        0</td><td style=\"text-align: right;\">0.885111</td><td style=\"text-align: right;\">0.114889</td></tr>\n",
       "<tr><td style=\"text-align: right;\">        1</td><td style=\"text-align: right;\">0.121775</td><td style=\"text-align: right;\">0.878225</td></tr>\n",
       "<tr><td style=\"text-align: right;\">        1</td><td style=\"text-align: right;\">0.199925</td><td style=\"text-align: right;\">0.800075</td></tr>\n",
       "<tr><td style=\"text-align: right;\">        0</td><td style=\"text-align: right;\">0.842821</td><td style=\"text-align: right;\">0.157179</td></tr>\n",
       "</tbody>\n",
       "</table>"
      ]
     },
     "metadata": {},
     "output_type": "display_data"
    },
    {
     "data": {
      "text/plain": []
     },
     "execution_count": 14,
     "metadata": {},
     "output_type": "execute_result"
    }
   ],
   "source": [
    "ins_pred_xgb = ins_h2o_xgb.predict(ins_h2o)\n",
    "ins_pred_xgb"
   ]
  },
  {
   "cell_type": "code",
   "execution_count": 15,
   "id": "a4020954",
   "metadata": {},
   "outputs": [],
   "source": [
    "ins_predicted = ins_pred_xgb.as_data_frame()\n",
    "ins_predicted['bought_nextpol'] = ins['bought_nextpol']\n",
    "ins_predicted['Group'] = 11-pd.qcut(ins_predicted['p1'], q=10, labels = [1,2,3,4,5,6,7,8,9,10]).astype(int)"
   ]
  },
  {
   "cell_type": "code",
   "execution_count": 16,
   "id": "c79675d2",
   "metadata": {},
   "outputs": [
    {
     "data": {
      "text/html": [
       "<div>\n",
       "<style scoped>\n",
       "    .dataframe tbody tr th:only-of-type {\n",
       "        vertical-align: middle;\n",
       "    }\n",
       "\n",
       "    .dataframe tbody tr th {\n",
       "        vertical-align: top;\n",
       "    }\n",
       "\n",
       "    .dataframe thead th {\n",
       "        text-align: right;\n",
       "    }\n",
       "</style>\n",
       "<table border=\"1\" class=\"dataframe\">\n",
       "  <thead>\n",
       "    <tr style=\"text-align: right;\">\n",
       "      <th></th>\n",
       "      <th>predict</th>\n",
       "      <th>p0</th>\n",
       "      <th>p1</th>\n",
       "      <th>bought_nextpol</th>\n",
       "      <th>Group</th>\n",
       "    </tr>\n",
       "  </thead>\n",
       "  <tbody>\n",
       "    <tr>\n",
       "      <th>0</th>\n",
       "      <td>1</td>\n",
       "      <td>0.127720</td>\n",
       "      <td>0.872280</td>\n",
       "      <td>1</td>\n",
       "      <td>1</td>\n",
       "    </tr>\n",
       "    <tr>\n",
       "      <th>1</th>\n",
       "      <td>0</td>\n",
       "      <td>0.687004</td>\n",
       "      <td>0.312996</td>\n",
       "      <td>0</td>\n",
       "      <td>5</td>\n",
       "    </tr>\n",
       "    <tr>\n",
       "      <th>2</th>\n",
       "      <td>0</td>\n",
       "      <td>0.868271</td>\n",
       "      <td>0.131729</td>\n",
       "      <td>0</td>\n",
       "      <td>8</td>\n",
       "    </tr>\n",
       "    <tr>\n",
       "      <th>3</th>\n",
       "      <td>1</td>\n",
       "      <td>0.216630</td>\n",
       "      <td>0.783370</td>\n",
       "      <td>1</td>\n",
       "      <td>2</td>\n",
       "    </tr>\n",
       "    <tr>\n",
       "      <th>4</th>\n",
       "      <td>0</td>\n",
       "      <td>0.851098</td>\n",
       "      <td>0.148902</td>\n",
       "      <td>0</td>\n",
       "      <td>8</td>\n",
       "    </tr>\n",
       "    <tr>\n",
       "      <th>...</th>\n",
       "      <td>...</td>\n",
       "      <td>...</td>\n",
       "      <td>...</td>\n",
       "      <td>...</td>\n",
       "      <td>...</td>\n",
       "    </tr>\n",
       "    <tr>\n",
       "      <th>45272</th>\n",
       "      <td>0</td>\n",
       "      <td>0.901499</td>\n",
       "      <td>0.098501</td>\n",
       "      <td>0</td>\n",
       "      <td>9</td>\n",
       "    </tr>\n",
       "    <tr>\n",
       "      <th>45273</th>\n",
       "      <td>0</td>\n",
       "      <td>0.853473</td>\n",
       "      <td>0.146527</td>\n",
       "      <td>0</td>\n",
       "      <td>8</td>\n",
       "    </tr>\n",
       "    <tr>\n",
       "      <th>45274</th>\n",
       "      <td>0</td>\n",
       "      <td>0.650601</td>\n",
       "      <td>0.349399</td>\n",
       "      <td>1</td>\n",
       "      <td>5</td>\n",
       "    </tr>\n",
       "    <tr>\n",
       "      <th>45275</th>\n",
       "      <td>0</td>\n",
       "      <td>0.811179</td>\n",
       "      <td>0.188821</td>\n",
       "      <td>0</td>\n",
       "      <td>7</td>\n",
       "    </tr>\n",
       "    <tr>\n",
       "      <th>45276</th>\n",
       "      <td>0</td>\n",
       "      <td>0.813188</td>\n",
       "      <td>0.186812</td>\n",
       "      <td>0</td>\n",
       "      <td>7</td>\n",
       "    </tr>\n",
       "  </tbody>\n",
       "</table>\n",
       "<p>45277 rows × 5 columns</p>\n",
       "</div>"
      ],
      "text/plain": [
       "       predict        p0        p1  bought_nextpol  Group\n",
       "0            1  0.127720  0.872280               1      1\n",
       "1            0  0.687004  0.312996               0      5\n",
       "2            0  0.868271  0.131729               0      8\n",
       "3            1  0.216630  0.783370               1      2\n",
       "4            0  0.851098  0.148902               0      8\n",
       "...        ...       ...       ...             ...    ...\n",
       "45272        0  0.901499  0.098501               0      9\n",
       "45273        0  0.853473  0.146527               0      8\n",
       "45274        0  0.650601  0.349399               1      5\n",
       "45275        0  0.811179  0.188821               0      7\n",
       "45276        0  0.813188  0.186812               0      7\n",
       "\n",
       "[45277 rows x 5 columns]"
      ]
     },
     "execution_count": 16,
     "metadata": {},
     "output_type": "execute_result"
    }
   ],
   "source": [
    "ins_predicted"
   ]
  },
  {
   "cell_type": "markdown",
   "id": "827e8465",
   "metadata": {},
   "source": [
    "### Evaluating the Lift and Gain\n",
    "Gain and Lift charts are used to evaluate performance of classification model. They measure how much better one can expect to do with the predictive model comparing without a model. Gain at a given decile level is the ratio of cumulative number of targets (events) up to that decile to the total number of targets (events) in the entire data set. Lift measures how much better one can expect to do with the predictive model comparing without a model. It is the ratio of gain $\\%$ to the random expectation $\\%$ at a given decile level. The random expectation at the $x^{th}$ decile is $x\\%$."
   ]
  },
  {
   "cell_type": "code",
   "execution_count": 17,
   "id": "a7f40d31",
   "metadata": {},
   "outputs": [
    {
     "data": {
      "text/html": [
       "<div>\n",
       "<style scoped>\n",
       "    .dataframe tbody tr th:only-of-type {\n",
       "        vertical-align: middle;\n",
       "    }\n",
       "\n",
       "    .dataframe tbody tr th {\n",
       "        vertical-align: top;\n",
       "    }\n",
       "\n",
       "    .dataframe thead th {\n",
       "        text-align: right;\n",
       "    }\n",
       "</style>\n",
       "<table border=\"1\" class=\"dataframe\">\n",
       "  <thead>\n",
       "    <tr style=\"text-align: right;\">\n",
       "      <th></th>\n",
       "      <th>Group</th>\n",
       "      <th>num_of_obs</th>\n",
       "      <th>num_of_responses</th>\n",
       "    </tr>\n",
       "  </thead>\n",
       "  <tbody>\n",
       "    <tr>\n",
       "      <th>0</th>\n",
       "      <td>1</td>\n",
       "      <td>4528</td>\n",
       "      <td>4162</td>\n",
       "    </tr>\n",
       "    <tr>\n",
       "      <th>1</th>\n",
       "      <td>2</td>\n",
       "      <td>4528</td>\n",
       "      <td>3678</td>\n",
       "    </tr>\n",
       "    <tr>\n",
       "      <th>2</th>\n",
       "      <td>3</td>\n",
       "      <td>4527</td>\n",
       "      <td>3087</td>\n",
       "    </tr>\n",
       "    <tr>\n",
       "      <th>3</th>\n",
       "      <td>4</td>\n",
       "      <td>4528</td>\n",
       "      <td>2260</td>\n",
       "    </tr>\n",
       "    <tr>\n",
       "      <th>4</th>\n",
       "      <td>5</td>\n",
       "      <td>4527</td>\n",
       "      <td>1531</td>\n",
       "    </tr>\n",
       "    <tr>\n",
       "      <th>5</th>\n",
       "      <td>6</td>\n",
       "      <td>4528</td>\n",
       "      <td>981</td>\n",
       "    </tr>\n",
       "    <tr>\n",
       "      <th>6</th>\n",
       "      <td>7</td>\n",
       "      <td>4528</td>\n",
       "      <td>601</td>\n",
       "    </tr>\n",
       "    <tr>\n",
       "      <th>7</th>\n",
       "      <td>8</td>\n",
       "      <td>4527</td>\n",
       "      <td>418</td>\n",
       "    </tr>\n",
       "    <tr>\n",
       "      <th>8</th>\n",
       "      <td>9</td>\n",
       "      <td>4528</td>\n",
       "      <td>254</td>\n",
       "    </tr>\n",
       "    <tr>\n",
       "      <th>9</th>\n",
       "      <td>10</td>\n",
       "      <td>4528</td>\n",
       "      <td>150</td>\n",
       "    </tr>\n",
       "  </tbody>\n",
       "</table>\n",
       "</div>"
      ],
      "text/plain": [
       "   Group  num_of_obs  num_of_responses\n",
       "0      1        4528              4162\n",
       "1      2        4528              3678\n",
       "2      3        4527              3087\n",
       "3      4        4528              2260\n",
       "4      5        4527              1531\n",
       "5      6        4528               981\n",
       "6      7        4528               601\n",
       "7      8        4527               418\n",
       "8      9        4528               254\n",
       "9     10        4528               150"
      ]
     },
     "execution_count": 17,
     "metadata": {},
     "output_type": "execute_result"
    }
   ],
   "source": [
    "ins_gainsLift = ins_predicted.groupby(['Group']).agg(num_of_obs = ('predict','count'),\n",
    "                                                    num_of_responses = ('bought_nextpol','sum')).reset_index()\n",
    "ins_gainsLift"
   ]
  },
  {
   "cell_type": "code",
   "execution_count": 18,
   "id": "0c54af3e",
   "metadata": {},
   "outputs": [
    {
     "data": {
      "text/html": [
       "<div>\n",
       "<style scoped>\n",
       "    .dataframe tbody tr th:only-of-type {\n",
       "        vertical-align: middle;\n",
       "    }\n",
       "\n",
       "    .dataframe tbody tr th {\n",
       "        vertical-align: top;\n",
       "    }\n",
       "\n",
       "    .dataframe thead th {\n",
       "        text-align: right;\n",
       "    }\n",
       "</style>\n",
       "<table border=\"1\" class=\"dataframe\">\n",
       "  <thead>\n",
       "    <tr style=\"text-align: right;\">\n",
       "      <th></th>\n",
       "      <th>Group</th>\n",
       "      <th>num_of_obs</th>\n",
       "      <th>num_of_responses</th>\n",
       "      <th>percentage_data</th>\n",
       "      <th>cum_responses</th>\n",
       "      <th>cum_observations</th>\n",
       "      <th>Gain</th>\n",
       "      <th>Lift</th>\n",
       "    </tr>\n",
       "  </thead>\n",
       "  <tbody>\n",
       "    <tr>\n",
       "      <th>0</th>\n",
       "      <td>1</td>\n",
       "      <td>4528</td>\n",
       "      <td>4162</td>\n",
       "      <td>10</td>\n",
       "      <td>4162</td>\n",
       "      <td>4528</td>\n",
       "      <td>24.31</td>\n",
       "      <td>2.43</td>\n",
       "    </tr>\n",
       "    <tr>\n",
       "      <th>1</th>\n",
       "      <td>2</td>\n",
       "      <td>4528</td>\n",
       "      <td>3678</td>\n",
       "      <td>20</td>\n",
       "      <td>7840</td>\n",
       "      <td>9056</td>\n",
       "      <td>45.79</td>\n",
       "      <td>2.29</td>\n",
       "    </tr>\n",
       "    <tr>\n",
       "      <th>2</th>\n",
       "      <td>3</td>\n",
       "      <td>4527</td>\n",
       "      <td>3087</td>\n",
       "      <td>30</td>\n",
       "      <td>10927</td>\n",
       "      <td>13583</td>\n",
       "      <td>63.82</td>\n",
       "      <td>2.13</td>\n",
       "    </tr>\n",
       "    <tr>\n",
       "      <th>3</th>\n",
       "      <td>4</td>\n",
       "      <td>4528</td>\n",
       "      <td>2260</td>\n",
       "      <td>40</td>\n",
       "      <td>13187</td>\n",
       "      <td>18111</td>\n",
       "      <td>77.02</td>\n",
       "      <td>1.93</td>\n",
       "    </tr>\n",
       "    <tr>\n",
       "      <th>4</th>\n",
       "      <td>5</td>\n",
       "      <td>4527</td>\n",
       "      <td>1531</td>\n",
       "      <td>50</td>\n",
       "      <td>14718</td>\n",
       "      <td>22638</td>\n",
       "      <td>85.96</td>\n",
       "      <td>1.72</td>\n",
       "    </tr>\n",
       "    <tr>\n",
       "      <th>5</th>\n",
       "      <td>6</td>\n",
       "      <td>4528</td>\n",
       "      <td>981</td>\n",
       "      <td>60</td>\n",
       "      <td>15699</td>\n",
       "      <td>27166</td>\n",
       "      <td>91.69</td>\n",
       "      <td>1.53</td>\n",
       "    </tr>\n",
       "    <tr>\n",
       "      <th>6</th>\n",
       "      <td>7</td>\n",
       "      <td>4528</td>\n",
       "      <td>601</td>\n",
       "      <td>70</td>\n",
       "      <td>16300</td>\n",
       "      <td>31694</td>\n",
       "      <td>95.20</td>\n",
       "      <td>1.36</td>\n",
       "    </tr>\n",
       "    <tr>\n",
       "      <th>7</th>\n",
       "      <td>8</td>\n",
       "      <td>4527</td>\n",
       "      <td>418</td>\n",
       "      <td>80</td>\n",
       "      <td>16718</td>\n",
       "      <td>36221</td>\n",
       "      <td>97.64</td>\n",
       "      <td>1.22</td>\n",
       "    </tr>\n",
       "    <tr>\n",
       "      <th>8</th>\n",
       "      <td>9</td>\n",
       "      <td>4528</td>\n",
       "      <td>254</td>\n",
       "      <td>90</td>\n",
       "      <td>16972</td>\n",
       "      <td>40749</td>\n",
       "      <td>99.12</td>\n",
       "      <td>1.10</td>\n",
       "    </tr>\n",
       "    <tr>\n",
       "      <th>9</th>\n",
       "      <td>10</td>\n",
       "      <td>4528</td>\n",
       "      <td>150</td>\n",
       "      <td>100</td>\n",
       "      <td>17122</td>\n",
       "      <td>45277</td>\n",
       "      <td>100.00</td>\n",
       "      <td>1.00</td>\n",
       "    </tr>\n",
       "  </tbody>\n",
       "</table>\n",
       "</div>"
      ],
      "text/plain": [
       "   Group  num_of_obs  num_of_responses  percentage_data  cum_responses  \\\n",
       "0      1        4528              4162               10           4162   \n",
       "1      2        4528              3678               20           7840   \n",
       "2      3        4527              3087               30          10927   \n",
       "3      4        4528              2260               40          13187   \n",
       "4      5        4527              1531               50          14718   \n",
       "5      6        4528               981               60          15699   \n",
       "6      7        4528               601               70          16300   \n",
       "7      8        4527               418               80          16718   \n",
       "8      9        4528               254               90          16972   \n",
       "9     10        4528               150              100          17122   \n",
       "\n",
       "   cum_observations    Gain  Lift  \n",
       "0              4528   24.31  2.43  \n",
       "1              9056   45.79  2.29  \n",
       "2             13583   63.82  2.13  \n",
       "3             18111   77.02  1.93  \n",
       "4             22638   85.96  1.72  \n",
       "5             27166   91.69  1.53  \n",
       "6             31694   95.20  1.36  \n",
       "7             36221   97.64  1.22  \n",
       "8             40749   99.12  1.10  \n",
       "9             45277  100.00  1.00  "
      ]
     },
     "execution_count": 18,
     "metadata": {},
     "output_type": "execute_result"
    }
   ],
   "source": [
    "ins_gainsLift = ins_gainsLift.assign(\n",
    "                    percentage_data = 10*ins_gainsLift['Group'],\n",
    "                    cum_responses = ins_gainsLift['num_of_responses'].cumsum(),\n",
    "                    cum_observations = ins_gainsLift['num_of_obs'].cumsum())\n",
    "ins_gainsLift = ins_gainsLift.assign(\n",
    "                    Gain = np.round(ins_gainsLift['cum_responses']*100/np.sum(ins_gainsLift['num_of_responses']), 2))\n",
    "ins_gainsLift = ins_gainsLift.assign(Lift =  np.round(ins_gainsLift['Gain']/(10*ins_gainsLift['Group']), 2))\n",
    "ins_gainsLift"
   ]
  },
  {
   "cell_type": "markdown",
   "id": "c4a6253c",
   "metadata": {},
   "source": [
    "### Preprocessing Holdout Data"
   ]
  },
  {
   "cell_type": "markdown",
   "id": "3f543d08",
   "metadata": {},
   "source": [
    "We will be testing our model on the unseen hold-out data set."
   ]
  },
  {
   "cell_type": "code",
   "execution_count": 19,
   "id": "9bc32015",
   "metadata": {},
   "outputs": [],
   "source": [
    "ins_holdout = pd.read_csv('data/insurance_holdout.csv')"
   ]
  },
  {
   "cell_type": "code",
   "execution_count": 20,
   "id": "c3857775",
   "metadata": {},
   "outputs": [
    {
     "name": "stdout",
     "output_type": "stream",
     "text": [
      "Parse progress: |█████████████████████████████████████████████████████████| 100%\n"
     ]
    }
   ],
   "source": [
    "ins_holdout_h2o = h2o.H2OFrame(ins_holdout)\n",
    "ins_holdout_h2o['bought_nextpol'] = ins_holdout_h2o['bought_nextpol'].asfactor()\n",
    "ins_holdout_h2o['gender'] = ins_holdout_h2o['gender'].asfactor()\n",
    "ins_holdout_h2o['age'] = ins_holdout_h2o['age'].asfactor()\n",
    "ins_holdout_h2o['faceamount'] = ins_holdout_h2o['faceamount'].asfactor()\n",
    "ins_holdout_h2o['product'] = ins_holdout_h2o['product'].asfactor()\n",
    "ins_holdout_h2o['councilstatus'] = ins_holdout_h2o['councilstatus'].asfactor()"
   ]
  },
  {
   "cell_type": "markdown",
   "id": "97015524",
   "metadata": {},
   "source": [
    "### Predict on Holdout Data"
   ]
  },
  {
   "cell_type": "code",
   "execution_count": 21,
   "id": "b67a543c",
   "metadata": {},
   "outputs": [
    {
     "name": "stdout",
     "output_type": "stream",
     "text": [
      "xgboost prediction progress: |████████████████████████████████████████████| 100%\n"
     ]
    }
   ],
   "source": [
    "ins_holdout_pred_xgb = ins_h2o_xgb.predict(ins_holdout_h2o)"
   ]
  },
  {
   "cell_type": "markdown",
   "id": "5ddc214a",
   "metadata": {},
   "source": [
    "### Evaluating Lift and Gain on Holdout Data"
   ]
  },
  {
   "cell_type": "code",
   "execution_count": 22,
   "id": "e3fc456c",
   "metadata": {},
   "outputs": [],
   "source": [
    "ins_holdout_predicted = ins_holdout_pred_xgb.as_data_frame()\n",
    "ins_holdout_predicted['bought_nextpol'] = ins_holdout['bought_nextpol']\n",
    "ins_holdout_predicted['Group'] = 11-pd.qcut(ins_holdout_predicted['p1'], q=10, labels = [1,2,3,4,5,6,7,8,9,10]).astype(int)"
   ]
  },
  {
   "cell_type": "code",
   "execution_count": 23,
   "id": "e5221329",
   "metadata": {},
   "outputs": [
    {
     "data": {
      "text/html": [
       "<div>\n",
       "<style scoped>\n",
       "    .dataframe tbody tr th:only-of-type {\n",
       "        vertical-align: middle;\n",
       "    }\n",
       "\n",
       "    .dataframe tbody tr th {\n",
       "        vertical-align: top;\n",
       "    }\n",
       "\n",
       "    .dataframe thead th {\n",
       "        text-align: right;\n",
       "    }\n",
       "</style>\n",
       "<table border=\"1\" class=\"dataframe\">\n",
       "  <thead>\n",
       "    <tr style=\"text-align: right;\">\n",
       "      <th></th>\n",
       "      <th>predict</th>\n",
       "      <th>p0</th>\n",
       "      <th>p1</th>\n",
       "      <th>bought_nextpol</th>\n",
       "      <th>Group</th>\n",
       "    </tr>\n",
       "  </thead>\n",
       "  <tbody>\n",
       "    <tr>\n",
       "      <th>0</th>\n",
       "      <td>0</td>\n",
       "      <td>0.883905</td>\n",
       "      <td>0.116095</td>\n",
       "      <td>0</td>\n",
       "      <td>7</td>\n",
       "    </tr>\n",
       "    <tr>\n",
       "      <th>1</th>\n",
       "      <td>0</td>\n",
       "      <td>0.902693</td>\n",
       "      <td>0.097307</td>\n",
       "      <td>0</td>\n",
       "      <td>9</td>\n",
       "    </tr>\n",
       "    <tr>\n",
       "      <th>2</th>\n",
       "      <td>0</td>\n",
       "      <td>0.907007</td>\n",
       "      <td>0.092993</td>\n",
       "      <td>0</td>\n",
       "      <td>9</td>\n",
       "    </tr>\n",
       "    <tr>\n",
       "      <th>3</th>\n",
       "      <td>1</td>\n",
       "      <td>0.185335</td>\n",
       "      <td>0.814665</td>\n",
       "      <td>1</td>\n",
       "      <td>1</td>\n",
       "    </tr>\n",
       "    <tr>\n",
       "      <th>4</th>\n",
       "      <td>1</td>\n",
       "      <td>0.308102</td>\n",
       "      <td>0.691898</td>\n",
       "      <td>1</td>\n",
       "      <td>2</td>\n",
       "    </tr>\n",
       "    <tr>\n",
       "      <th>...</th>\n",
       "      <td>...</td>\n",
       "      <td>...</td>\n",
       "      <td>...</td>\n",
       "      <td>...</td>\n",
       "      <td>...</td>\n",
       "    </tr>\n",
       "    <tr>\n",
       "      <th>18078</th>\n",
       "      <td>0</td>\n",
       "      <td>0.914064</td>\n",
       "      <td>0.085936</td>\n",
       "      <td>0</td>\n",
       "      <td>10</td>\n",
       "    </tr>\n",
       "    <tr>\n",
       "      <th>18079</th>\n",
       "      <td>1</td>\n",
       "      <td>0.589266</td>\n",
       "      <td>0.410734</td>\n",
       "      <td>1</td>\n",
       "      <td>3</td>\n",
       "    </tr>\n",
       "    <tr>\n",
       "      <th>18080</th>\n",
       "      <td>1</td>\n",
       "      <td>0.403295</td>\n",
       "      <td>0.596705</td>\n",
       "      <td>1</td>\n",
       "      <td>2</td>\n",
       "    </tr>\n",
       "    <tr>\n",
       "      <th>18081</th>\n",
       "      <td>0</td>\n",
       "      <td>0.898281</td>\n",
       "      <td>0.101719</td>\n",
       "      <td>0</td>\n",
       "      <td>8</td>\n",
       "    </tr>\n",
       "    <tr>\n",
       "      <th>18082</th>\n",
       "      <td>0</td>\n",
       "      <td>0.914341</td>\n",
       "      <td>0.085659</td>\n",
       "      <td>0</td>\n",
       "      <td>10</td>\n",
       "    </tr>\n",
       "  </tbody>\n",
       "</table>\n",
       "<p>18083 rows × 5 columns</p>\n",
       "</div>"
      ],
      "text/plain": [
       "       predict        p0        p1  bought_nextpol  Group\n",
       "0            0  0.883905  0.116095               0      7\n",
       "1            0  0.902693  0.097307               0      9\n",
       "2            0  0.907007  0.092993               0      9\n",
       "3            1  0.185335  0.814665               1      1\n",
       "4            1  0.308102  0.691898               1      2\n",
       "...        ...       ...       ...             ...    ...\n",
       "18078        0  0.914064  0.085936               0     10\n",
       "18079        1  0.589266  0.410734               1      3\n",
       "18080        1  0.403295  0.596705               1      2\n",
       "18081        0  0.898281  0.101719               0      8\n",
       "18082        0  0.914341  0.085659               0     10\n",
       "\n",
       "[18083 rows x 5 columns]"
      ]
     },
     "execution_count": 23,
     "metadata": {},
     "output_type": "execute_result"
    }
   ],
   "source": [
    "ins_holdout_predicted"
   ]
  },
  {
   "cell_type": "code",
   "execution_count": 24,
   "id": "7b90d815",
   "metadata": {},
   "outputs": [
    {
     "data": {
      "text/html": [
       "<div>\n",
       "<style scoped>\n",
       "    .dataframe tbody tr th:only-of-type {\n",
       "        vertical-align: middle;\n",
       "    }\n",
       "\n",
       "    .dataframe tbody tr th {\n",
       "        vertical-align: top;\n",
       "    }\n",
       "\n",
       "    .dataframe thead th {\n",
       "        text-align: right;\n",
       "    }\n",
       "</style>\n",
       "<table border=\"1\" class=\"dataframe\">\n",
       "  <thead>\n",
       "    <tr style=\"text-align: right;\">\n",
       "      <th></th>\n",
       "      <th>Group</th>\n",
       "      <th>num_of_obs</th>\n",
       "      <th>num_of_responses</th>\n",
       "      <th>percentage_data</th>\n",
       "      <th>cum_responses</th>\n",
       "      <th>cum_observations</th>\n",
       "      <th>Gain</th>\n",
       "      <th>Lift</th>\n",
       "    </tr>\n",
       "  </thead>\n",
       "  <tbody>\n",
       "    <tr>\n",
       "      <th>0</th>\n",
       "      <td>1</td>\n",
       "      <td>1809</td>\n",
       "      <td>1609</td>\n",
       "      <td>10</td>\n",
       "      <td>1609</td>\n",
       "      <td>1809</td>\n",
       "      <td>27.09</td>\n",
       "      <td>2.71</td>\n",
       "    </tr>\n",
       "    <tr>\n",
       "      <th>1</th>\n",
       "      <td>2</td>\n",
       "      <td>1808</td>\n",
       "      <td>1371</td>\n",
       "      <td>20</td>\n",
       "      <td>2980</td>\n",
       "      <td>3617</td>\n",
       "      <td>50.18</td>\n",
       "      <td>2.51</td>\n",
       "    </tr>\n",
       "    <tr>\n",
       "      <th>2</th>\n",
       "      <td>3</td>\n",
       "      <td>1808</td>\n",
       "      <td>1057</td>\n",
       "      <td>30</td>\n",
       "      <td>4037</td>\n",
       "      <td>5425</td>\n",
       "      <td>67.97</td>\n",
       "      <td>2.27</td>\n",
       "    </tr>\n",
       "    <tr>\n",
       "      <th>3</th>\n",
       "      <td>4</td>\n",
       "      <td>1808</td>\n",
       "      <td>751</td>\n",
       "      <td>40</td>\n",
       "      <td>4788</td>\n",
       "      <td>7233</td>\n",
       "      <td>80.62</td>\n",
       "      <td>2.02</td>\n",
       "    </tr>\n",
       "    <tr>\n",
       "      <th>4</th>\n",
       "      <td>5</td>\n",
       "      <td>1808</td>\n",
       "      <td>415</td>\n",
       "      <td>50</td>\n",
       "      <td>5203</td>\n",
       "      <td>9041</td>\n",
       "      <td>87.61</td>\n",
       "      <td>1.75</td>\n",
       "    </tr>\n",
       "    <tr>\n",
       "      <th>5</th>\n",
       "      <td>6</td>\n",
       "      <td>1809</td>\n",
       "      <td>272</td>\n",
       "      <td>60</td>\n",
       "      <td>5475</td>\n",
       "      <td>10850</td>\n",
       "      <td>92.19</td>\n",
       "      <td>1.54</td>\n",
       "    </tr>\n",
       "    <tr>\n",
       "      <th>6</th>\n",
       "      <td>7</td>\n",
       "      <td>1808</td>\n",
       "      <td>176</td>\n",
       "      <td>70</td>\n",
       "      <td>5651</td>\n",
       "      <td>12658</td>\n",
       "      <td>95.15</td>\n",
       "      <td>1.36</td>\n",
       "    </tr>\n",
       "    <tr>\n",
       "      <th>7</th>\n",
       "      <td>8</td>\n",
       "      <td>1808</td>\n",
       "      <td>128</td>\n",
       "      <td>80</td>\n",
       "      <td>5779</td>\n",
       "      <td>14466</td>\n",
       "      <td>97.31</td>\n",
       "      <td>1.22</td>\n",
       "    </tr>\n",
       "    <tr>\n",
       "      <th>8</th>\n",
       "      <td>9</td>\n",
       "      <td>1805</td>\n",
       "      <td>87</td>\n",
       "      <td>90</td>\n",
       "      <td>5866</td>\n",
       "      <td>16271</td>\n",
       "      <td>98.77</td>\n",
       "      <td>1.10</td>\n",
       "    </tr>\n",
       "    <tr>\n",
       "      <th>9</th>\n",
       "      <td>10</td>\n",
       "      <td>1812</td>\n",
       "      <td>73</td>\n",
       "      <td>100</td>\n",
       "      <td>5939</td>\n",
       "      <td>18083</td>\n",
       "      <td>100.00</td>\n",
       "      <td>1.00</td>\n",
       "    </tr>\n",
       "  </tbody>\n",
       "</table>\n",
       "</div>"
      ],
      "text/plain": [
       "   Group  num_of_obs  num_of_responses  percentage_data  cum_responses  \\\n",
       "0      1        1809              1609               10           1609   \n",
       "1      2        1808              1371               20           2980   \n",
       "2      3        1808              1057               30           4037   \n",
       "3      4        1808               751               40           4788   \n",
       "4      5        1808               415               50           5203   \n",
       "5      6        1809               272               60           5475   \n",
       "6      7        1808               176               70           5651   \n",
       "7      8        1808               128               80           5779   \n",
       "8      9        1805                87               90           5866   \n",
       "9     10        1812                73              100           5939   \n",
       "\n",
       "   cum_observations    Gain  Lift  \n",
       "0              1809   27.09  2.71  \n",
       "1              3617   50.18  2.51  \n",
       "2              5425   67.97  2.27  \n",
       "3              7233   80.62  2.02  \n",
       "4              9041   87.61  1.75  \n",
       "5             10850   92.19  1.54  \n",
       "6             12658   95.15  1.36  \n",
       "7             14466   97.31  1.22  \n",
       "8             16271   98.77  1.10  \n",
       "9             18083  100.00  1.00  "
      ]
     },
     "execution_count": 24,
     "metadata": {},
     "output_type": "execute_result"
    }
   ],
   "source": [
    "ins_holdout_gainsLift = ins_holdout_predicted.groupby(['Group']).agg(num_of_obs = ('predict','count'),\n",
    "                                                    num_of_responses = ('bought_nextpol','sum')).reset_index()\n",
    "\n",
    "ins_holdout_gainsLift = ins_holdout_gainsLift.assign(\n",
    "                    percentage_data = 10*ins_holdout_gainsLift['Group'],\n",
    "                    cum_responses = ins_holdout_gainsLift['num_of_responses'].cumsum(),\n",
    "                    cum_observations = ins_holdout_gainsLift['num_of_obs'].cumsum())\n",
    "ins_holdout_gainsLift = ins_holdout_gainsLift.assign(\n",
    "                    Gain = np.round(ins_holdout_gainsLift['cum_responses']*100/np.sum(ins_holdout_gainsLift['num_of_responses']), 2))\n",
    "ins_holdout_gainsLift = ins_holdout_gainsLift.assign(Lift =  np.round(ins_holdout_gainsLift['Gain']/(10*ins_holdout_gainsLift['Group']), 2))\n",
    "ins_holdout_gainsLift"
   ]
  },
  {
   "cell_type": "markdown",
   "id": "71efd72c",
   "metadata": {},
   "source": [
    "Powerlytics data could play a key role in helping Insurance Carrier build a data driven process to increase their share of wallet with current policyholders. Our analysis could also identify next best product offers and provide tools for Agents to identify policyholders more likely to purchase an additional product."
   ]
  },
  {
   "cell_type": "markdown",
   "id": "49d7dff6",
   "metadata": {},
   "source": [
    "### Shut Down H2O"
   ]
  },
  {
   "cell_type": "code",
   "execution_count": 25,
   "id": "056ce0a5",
   "metadata": {},
   "outputs": [
    {
     "name": "stdout",
     "output_type": "stream",
     "text": [
      "H2O session _sid_894a closed.\n"
     ]
    }
   ],
   "source": [
    "h2o.cluster().shutdown(prompt=False)"
   ]
  }
 ],
 "metadata": {
  "kernelspec": {
   "display_name": "Python 3",
   "language": "python",
   "name": "python3"
  },
  "language_info": {
   "codemirror_mode": {
    "name": "ipython",
    "version": 3
   },
   "file_extension": ".py",
   "mimetype": "text/x-python",
   "name": "python",
   "nbconvert_exporter": "python",
   "pygments_lexer": "ipython3",
   "version": "3.8.8"
  }
 },
 "nbformat": 4,
 "nbformat_minor": 5
}
